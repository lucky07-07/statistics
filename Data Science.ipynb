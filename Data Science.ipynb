{
 "cells": [
  {
   "cell_type": "markdown",
   "id": "03e66593-b400-41b9-a04e-ba9f1e740806",
   "metadata": {},
   "source": [
    "#write a program to read a string and comvert all even indexed values into lower case\n"
   ]
  },
  {
   "cell_type": "code",
   "execution_count": 2,
   "id": "d3e821e2-e89c-42e0-b4bb-5dd50b101a8f",
   "metadata": {},
   "outputs": [
    {
     "ename": "IndentationError",
     "evalue": "unindent does not match any outer indentation level (<string>, line 7)",
     "output_type": "error",
     "traceback": [
      "\u001b[1;36m  File \u001b[1;32m<string>:7\u001b[1;36m\u001b[0m\n\u001b[1;33m    l[i]=l[i].upper()\u001b[0m\n\u001b[1;37m                     ^\u001b[0m\n\u001b[1;31mIndentationError\u001b[0m\u001b[1;31m:\u001b[0m unindent does not match any outer indentation level\n"
     ]
    }
   ],
   "source": [
    "s=\"Anil Kumar\"\n",
    "\n",
    "def myfun(s):\n",
    "    l=list(s)\n",
    "    for i in range(len(l)):\n",
    "         if i%2==0:\n",
    "        l[i]=l[i].upper()\n",
    "    return ''.join(l)\n",
    "   \n",
    "\n",
    "\n",
    "\n",
    "s = \"Anil Kumar\"\n",
    "result=myfun(s)\n",
    "print(result)\n",
    "        \n",
    "\n",
    "    "
   ]
  },
  {
   "cell_type": "markdown",
   "id": "bb9f2d61-15bf-4d42-ae31-878aa0fc993c",
   "metadata": {},
   "source": [
    "#insert a new node at the nd of the linked list"
   ]
  },
  {
   "cell_type": "code",
   "execution_count": null,
   "id": "e1410014-4270-4f83-8047-20763cb489b8",
   "metadata": {},
   "outputs": [],
   "source": [
    "def "
   ]
  }
 ],
 "metadata": {
  "kernelspec": {
   "display_name": "Python 3 (ipykernel)",
   "language": "python",
   "name": "python3"
  },
  "language_info": {
   "codemirror_mode": {
    "name": "ipython",
    "version": 3
   },
   "file_extension": ".py",
   "mimetype": "text/x-python",
   "name": "python",
   "nbconvert_exporter": "python",
   "pygments_lexer": "ipython3",
   "version": "3.12.7"
  }
 },
 "nbformat": 4,
 "nbformat_minor": 5
}
