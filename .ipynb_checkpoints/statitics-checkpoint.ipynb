{
 "cells": [
  {
   "cell_type": "code",
   "execution_count": null,
   "id": "3bd8f8ca",
   "metadata": {},
   "outputs": [],
   "source": [
    "#mean (refers as average value)\"sum divide by length\""
   ]
  },
  {
   "cell_type": "code",
   "execution_count": null,
   "id": "72714173",
   "metadata": {},
   "outputs": [],
   "source": [
    "import pandas as pd\n",
    "df=pd.DataFrame({\"x\":[1,2,3,4,6,7],\"y\":[2,3,4,5,6,7]})\n",
    "df"
   ]
  },
  {
   "cell_type": "code",
   "execution_count": null,
   "id": "410b6096",
   "metadata": {},
   "outputs": [],
   "source": [
    "df[\"x\"].sum()"
   ]
  },
  {
   "cell_type": "code",
   "execution_count": null,
   "id": "3fc2f2b7",
   "metadata": {},
   "outputs": [],
   "source": [
    "len(df[\"x\"])"
   ]
  },
  {
   "cell_type": "code",
   "execution_count": null,
   "id": "a2bc8959",
   "metadata": {},
   "outputs": [],
   "source": [
    "df['x'].mean()"
   ]
  },
  {
   "cell_type": "code",
   "execution_count": null,
   "id": "417da8f7",
   "metadata": {},
   "outputs": [],
   "source": [
    "df[\"x\"].sum()/len(df[\"x\"])"
   ]
  },
  {
   "cell_type": "code",
   "execution_count": null,
   "id": "5cc472e0",
   "metadata": {},
   "outputs": [],
   "source": [
    "#median (center positioned value)(middle position)"
   ]
  },
  {
   "cell_type": "code",
   "execution_count": null,
   "id": "ce2aa752",
   "metadata": {},
   "outputs": [],
   "source": [
    "import pandas as pd\n",
    "df=pd.DataFrame({\"x\":[1,2,3,4,6,7],\"y\":[2,3,4,5,6,7]})\n",
    "df"
   ]
  },
  {
   "cell_type": "code",
   "execution_count": null,
   "id": "7fc98c64",
   "metadata": {},
   "outputs": [],
   "source": [
    "df[\"x\"].median()"
   ]
  },
  {
   "cell_type": "code",
   "execution_count": null,
   "id": "7744e6bb",
   "metadata": {},
   "outputs": [],
   "source": [
    "#mode (most repeated one)"
   ]
  },
  {
   "cell_type": "code",
   "execution_count": null,
   "id": "63c35223",
   "metadata": {},
   "outputs": [],
   "source": [
    "import pandas as pd\n",
    "df=pd.DataFrame({\"x\":[2,2,6,8,3],\"y\":[9,6,6,2,9]})\n",
    "df"
   ]
  },
  {
   "cell_type": "code",
   "execution_count": null,
   "id": "edc99db6",
   "metadata": {},
   "outputs": [],
   "source": [
    "df[\"x\"].mode()"
   ]
  },
  {
   "cell_type": "code",
   "execution_count": null,
   "id": "d4003962",
   "metadata": {},
   "outputs": [],
   "source": [
    "#if only you want value only displayed"
   ]
  },
  {
   "cell_type": "code",
   "execution_count": null,
   "id": "a0cd8b90",
   "metadata": {},
   "outputs": [],
   "source": [
    "df[\"x\"].mode()[0]"
   ]
  },
  {
   "cell_type": "code",
   "execution_count": null,
   "id": "8c258c3f",
   "metadata": {},
   "outputs": [],
   "source": [
    "df[\"y\"].mode()[0]"
   ]
  },
  {
   "cell_type": "code",
   "execution_count": null,
   "id": "63b2f90d",
   "metadata": {},
   "outputs": [],
   "source": [
    "#percentile"
   ]
  },
  {
   "cell_type": "code",
   "execution_count": null,
   "id": "c38bf90b",
   "metadata": {},
   "outputs": [],
   "source": [
    "import pandas as pd\n",
    "df=pd.DataFrame({\"x\":[10,12,13,43,55,3,7,67,56,43]})\n",
    "df"
   ]
  },
  {
   "cell_type": "code",
   "execution_count": null,
   "id": "e159d0b2",
   "metadata": {},
   "outputs": [],
   "source": [
    "#percentile of min"
   ]
  },
  {
   "cell_type": "code",
   "execution_count": null,
   "id": "4d630dda",
   "metadata": {},
   "outputs": [],
   "source": [
    "df[\"x\"].min()"
   ]
  },
  {
   "cell_type": "code",
   "execution_count": null,
   "id": "ca927239",
   "metadata": {},
   "outputs": [],
   "source": [
    "df[\"x\"].quantile(0)"
   ]
  },
  {
   "cell_type": "code",
   "execution_count": null,
   "id": "1cff9d11",
   "metadata": {},
   "outputs": [],
   "source": [
    "#25 percentile(Q1)"
   ]
  },
  {
   "cell_type": "code",
   "execution_count": null,
   "id": "6281a0e8",
   "metadata": {},
   "outputs": [],
   "source": [
    "Q1=df[\"x\"].quantile(0.25)\n",
    "Q1"
   ]
  },
  {
   "cell_type": "code",
   "execution_count": null,
   "id": "ca474410",
   "metadata": {},
   "outputs": [],
   "source": [
    "#50 percentile u can say median(Q2)"
   ]
  },
  {
   "cell_type": "code",
   "execution_count": null,
   "id": "53ccd997",
   "metadata": {},
   "outputs": [],
   "source": [
    "Q2=df[\"x\"].median()\n",
    "Q2"
   ]
  },
  {
   "cell_type": "code",
   "execution_count": null,
   "id": "c3735d14",
   "metadata": {},
   "outputs": [],
   "source": [
    "df[\"x\"].quantile(0.5)"
   ]
  },
  {
   "cell_type": "code",
   "execution_count": null,
   "id": "deec66e8",
   "metadata": {},
   "outputs": [],
   "source": [
    "#75 quantile(Q3)"
   ]
  },
  {
   "cell_type": "code",
   "execution_count": null,
   "id": "3352b124",
   "metadata": {},
   "outputs": [],
   "source": [
    "Q3=df[\"x\"].quantile(0.75)\n",
    "Q3"
   ]
  },
  {
   "cell_type": "code",
   "execution_count": null,
   "id": "814ad49d",
   "metadata": {},
   "outputs": [],
   "source": [
    "#100 quantile(Q4) maximum"
   ]
  },
  {
   "cell_type": "code",
   "execution_count": null,
   "id": "e6c34b5b",
   "metadata": {},
   "outputs": [],
   "source": [
    "Q4=df[\"x\"].quantile(1)\n",
    "Q4"
   ]
  },
  {
   "cell_type": "code",
   "execution_count": null,
   "id": "4bf2596d",
   "metadata": {},
   "outputs": [],
   "source": [
    "df[\"x\"].max()"
   ]
  },
  {
   "cell_type": "code",
   "execution_count": null,
   "id": "f6b8e695",
   "metadata": {},
   "outputs": [],
   "source": [
    "df['x'].quantile([0,0.25,0.5,0.75,1])"
   ]
  },
  {
   "cell_type": "code",
   "execution_count": null,
   "id": "780c741e",
   "metadata": {},
   "outputs": [],
   "source": [
    "df[\"x\"].describe()"
   ]
  },
  {
   "cell_type": "code",
   "execution_count": null,
   "id": "ab402592",
   "metadata": {},
   "outputs": [],
   "source": []
  },
  {
   "cell_type": "code",
   "execution_count": null,
   "id": "15ad61e9",
   "metadata": {},
   "outputs": [],
   "source": [
    "#IQR Inter Quartile Range"
   ]
  },
  {
   "cell_type": "code",
   "execution_count": null,
   "id": "0216c635",
   "metadata": {},
   "outputs": [],
   "source": [
    "IQR = Q3-Q1\n",
    "IQR"
   ]
  },
  {
   "cell_type": "code",
   "execution_count": null,
   "id": "4b10cfde",
   "metadata": {},
   "outputs": [],
   "source": [
    "#lower limit"
   ]
  },
  {
   "cell_type": "code",
   "execution_count": null,
   "id": "42fa3521",
   "metadata": {},
   "outputs": [],
   "source": [
    "ll=Q1-(IQR*1.5)\n",
    "ll"
   ]
  },
  {
   "cell_type": "code",
   "execution_count": null,
   "id": "fecc4dee",
   "metadata": {},
   "outputs": [],
   "source": [
    "ul=Q3+(IQR*1.5)\n",
    "ul"
   ]
  },
  {
   "cell_type": "code",
   "execution_count": null,
   "id": "198276d8",
   "metadata": {},
   "outputs": [],
   "source": [
    "#Outliers"
   ]
  },
  {
   "cell_type": "code",
   "execution_count": null,
   "id": "8c38ac3a",
   "metadata": {},
   "outputs": [],
   "source": [
    "import seaborn as sns\n",
    "sns.boxplot(df[\"x\"])"
   ]
  },
  {
   "cell_type": "code",
   "execution_count": null,
   "id": "25e974ae",
   "metadata": {},
   "outputs": [],
   "source": []
  }
 ],
 "metadata": {
  "kernelspec": {
   "display_name": "Python 3 (ipykernel)",
   "language": "python",
   "name": "python3"
  },
  "language_info": {
   "codemirror_mode": {
    "name": "ipython",
    "version": 3
   },
   "file_extension": ".py",
   "mimetype": "text/x-python",
   "name": "python",
   "nbconvert_exporter": "python",
   "pygments_lexer": "ipython3",
   "version": "3.12.3"
  }
 },
 "nbformat": 4,
 "nbformat_minor": 5
}
