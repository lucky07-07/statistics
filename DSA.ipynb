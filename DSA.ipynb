{
 "cells": [
  {
   "cell_type": "markdown",
   "id": "e25b754f",
   "metadata": {},
   "source": [
    "#write a program to check given number is even or odd"
   ]
  },
  {
   "cell_type": "code",
   "execution_count": null,
   "id": "15ca3ec6",
   "metadata": {},
   "outputs": [],
   "source": [
    "def eoo(n):\n",
    "    if n%2==0:\n",
    "        print(\"n is even\")\n",
    "    else:\n",
    "        print(\"n is odd\")\n",
    "\n",
    "\n",
    "\n",
    "n=eval(input(\"enter any value\"))\n",
    "print(eoo(n))"
   ]
  },
  {
   "cell_type": "markdown",
   "id": "6643e5c6",
   "metadata": {},
   "source": [
    "#write a program to check max of 2 numbers"
   ]
  },
  {
   "cell_type": "code",
   "execution_count": null,
   "id": "4f223856",
   "metadata": {},
   "outputs": [],
   "source": [
    "def max(a,b):\n",
    "    if a>b:\n",
    "        return a\n",
    "    else:\n",
    "        return b\n",
    "\n",
    "\n",
    "\n",
    "a=(input(\"enter a value\"))\n",
    "b=(input(\"enter b value\"))\n",
    "print(max(a,b))"
   ]
  },
  {
   "cell_type": "code",
   "execution_count": null,
   "id": "47a9d94d",
   "metadata": {},
   "outputs": [],
   "source": [
    "def maxv01(a,b):\n",
    "    return a if a>b else b\n",
    "\n",
    "\n",
    "\n",
    "a=(input(\"enter a value\"))\n",
    "b=(input(\"enter b value\"))\n",
    "print(maxv01(a,b))"
   ]
  },
  {
   "cell_type": "code",
   "execution_count": null,
   "id": "d28a6d42",
   "metadata": {},
   "outputs": [],
   "source": [
    "def maxv02(a,b):\n",
    "    return max(a,b)\n",
    "\n",
    "\n",
    "\n",
    "a=(input(\"enter a value\"))\n",
    "b=(input(\"enter b value\"))\n",
    "print(maxv02(a,b))"
   ]
  },
  {
   "cell_type": "markdown",
   "id": "e2880da0",
   "metadata": {},
   "source": [
    "#write a program to check max of 3 numbers"
   ]
  },
  {
   "cell_type": "code",
   "execution_count": null,
   "id": "7e8ea633",
   "metadata": {},
   "outputs": [],
   "source": [
    "def max(a,b,c):\n",
    "    if a>b and a>c:\n",
    "        return a\n",
    "    elif b>c:\n",
    "        return b\n",
    "    else:\n",
    "        return c\n",
    "\n",
    "\n",
    "\n",
    "a=eval(input(\"enter a value:\"))\n",
    "b=eval(input(\"enter b value:\"))\n",
    "c=eval(input(\"enter c value:\"))\n",
    "print(max(a,b,c))"
   ]
  },
  {
   "cell_type": "markdown",
   "id": "a680190a",
   "metadata": {},
   "source": [
    "#write a program to check max of 4 numbers"
   ]
  },
  {
   "cell_type": "code",
   "execution_count": null,
   "id": "99e03220",
   "metadata": {},
   "outputs": [],
   "source": [
    "def max(a,b,c,d):\n",
    "    if a>b and a>c and a>d:\n",
    "        return a\n",
    "    elif b>c and b>d:\n",
    "        return b\n",
    "    elif c>d:\n",
    "        return c\n",
    "    else:\n",
    "        return d\n",
    "\n",
    "\n",
    "\n",
    "a=eval(input(\"enter a value:\"))\n",
    "b=eval(input(\"enter b value:\"))\n",
    "c=eval(input(\"enter c value:\"))\n",
    "d=eval(input(\"enter d value:\"))\n",
    "print(max(a,b,c,d))"
   ]
  },
  {
   "cell_type": "markdown",
   "id": "bd8e7cb1",
   "metadata": {},
   "source": [
    "#write a program to check min of 4 numbers"
   ]
  },
  {
   "cell_type": "code",
   "execution_count": null,
   "id": "f9ea0721",
   "metadata": {},
   "outputs": [],
   "source": [
    "def min(a,b,c,d):\n",
    "    if a<b and a<c and a<d:\n",
    "        return a\n",
    "    elif b<c and b<d:\n",
    "        return b\n",
    "    elif c<d:\n",
    "        return c\n",
    "    else:\n",
    "        return d\n",
    "\n",
    "\n",
    "\n",
    "\n",
    "a=eval(input(\"enter a value: \"))\n",
    "b=eval(input(\"enter b value: \"))\n",
    "c=eval(input(\"enter c value: \"))\n",
    "d=eval(input(\"enter d value: \"))\n",
    "print(min(a,b,c,d))"
   ]
  },
  {
   "cell_type": "markdown",
   "id": "1e5f65c1",
   "metadata": {},
   "source": []
  },
  {
   "cell_type": "code",
   "execution_count": null,
   "id": "8509ff71",
   "metadata": {},
   "outputs": [],
   "source": [
    "def minv_01(a,b,c,d):\n",
    "      return min(a,b,c,d)\n",
    "\n",
    "\n",
    "\n",
    "a=eval(input(\"enter a value: \"))  \n",
    "b=eval(input(\"enter b value: \"))\n",
    "c=eval(input(\"enter c value: \"))\n",
    "d=eval(input(\"enter d value: \"))\n",
    "print(minv_01(a,b,c,d))"
   ]
  },
  {
   "cell_type": "code",
   "execution_count": null,
   "id": "298775cc",
   "metadata": {},
   "outputs": [],
   "source": [
    "#write a code swapping of integer"
   ]
  },
  {
   "cell_type": "code",
   "execution_count": null,
   "id": "ceada145",
   "metadata": {},
   "outputs": [],
   "source": [
    "def swap(a,b):\n",
    "    print(f\"before swapping:a={a} and b={b}\")\n",
    "    a,b=b,a\n",
    "    print(f\"after swapping:a={a} and b={b}\")\n",
    "\n",
    "\n",
    "\n",
    "\n",
    "a=input(\"enter a value\")\n",
    "b=input(\"enter b value\")\n",
    "print(swap(a,b))"
   ]
  },
  {
   "cell_type": "code",
   "execution_count": null,
   "id": "dcd9a0ef",
   "metadata": {},
   "outputs": [],
   "source": [
    "def swap1(a,b):\n",
    "    print(f\"before swapping:a={a} and b={b}\")\n",
    "    t=a\n",
    "    a=b\n",
    "    b=a\n",
    "    print(f\"after swapping:a={a} and b={b}\")\n",
    "\n",
    "\n",
    "\n",
    "\n",
    "a=input(\"enter a value\")\n",
    "b=input(\"enter b value\")\n",
    "print(swap1(a,b))"
   ]
  },
  {
   "cell_type": "code",
   "execution_count": null,
   "id": "b837b6ad",
   "metadata": {},
   "outputs": [],
   "source": [
    "#sum of n natural numbers"
   ]
  },
  {
   "cell_type": "code",
   "execution_count": null,
   "id": "52585481",
   "metadata": {},
   "outputs": [],
   "source": [
    "def sum(n):\n",
    "    s=0\n",
    "    for i in range(1,n+1):\n",
    "        s=s+i\n",
    "    return s\n",
    "\n",
    "\n",
    "n=int(input(\"enter n value\"))\n",
    "print(f\"number={n} and sum = {sum(n)}\")"
   ]
  },
  {
   "cell_type": "code",
   "execution_count": null,
   "id": "4532b7ec",
   "metadata": {},
   "outputs": [],
   "source": [
    "def sum1(n):\n",
    "    return n*(n+1)//2\n",
    "\n",
    "\n",
    "n=int(input(\"enter n value\"))\n",
    "print(f\"number={n} and sum = {sum1(n)}\")"
   ]
  },
  {
   "cell_type": "code",
   "execution_count": null,
   "id": "ecdaea6d",
   "metadata": {},
   "outputs": [],
   "source": [
    "#write a program for absolute value"
   ]
  },
  {
   "cell_type": "code",
   "execution_count": null,
   "id": "36b43b8b",
   "metadata": {},
   "outputs": [],
   "source": [
    "def abs(n):\n",
    "    if n<0:\n",
    "        return -n\n",
    "    else:\n",
    "        return n\n",
    "\n",
    "\n",
    "\n",
    "n=int(input(\"enter your value\"))\n",
    "print(f\"original value={n} and absolute value={abs(n)}\")"
   ]
  },
  {
   "cell_type": "code",
   "execution_count": null,
   "id": "a6f0d0ac",
   "metadata": {},
   "outputs": [],
   "source": [
    "#13.factorial of given number"
   ]
  },
  {
   "cell_type": "markdown",
   "id": "7497fe84",
   "metadata": {},
   "source": [
    "example\n",
    "factorial n=3 that means 3*2*1=6"
   ]
  },
  {
   "cell_type": "code",
   "execution_count": null,
   "id": "1a63e508",
   "metadata": {},
   "outputs": [],
   "source": [
    "def fac(n):\n",
    "    f=1\n",
    "    for i in range(1,n+1):\n",
    "        f=f*i\n",
    "    return f\n",
    "\n",
    "\n",
    "\n",
    "\n",
    "\n",
    "n=int(input(\"enter your value\"))\n",
    "print(f\"number={n} and factorial for {n} is {fac(n)}\")"
   ]
  },
  {
   "cell_type": "code",
   "execution_count": null,
   "id": "e541bedf",
   "metadata": {},
   "outputs": [],
   "source": [
    "import math\n",
    "def fac(n):\n",
    "    return math.factorial(n)\n",
    "\n",
    "\n",
    "\n",
    "n=int(input(\"enter your value\"))\n",
    "print(f\"number={n} and factorial for {n} is {fac(n)}\")"
   ]
  },
  {
   "cell_type": "code",
   "execution_count": null,
   "id": "31e431b3",
   "metadata": {},
   "outputs": [],
   "source": [
    "def fac(n):\n",
    "    if n==0:\n",
    "        return 1\n",
    "    else:\n",
    "        return n*fac(n-1)\n",
    "\n",
    "\n",
    "\n",
    "n=int(input(\"enter your value\"))\n",
    "print(f\"number={n} and factorial for {n} is {fac(n)}\")"
   ]
  },
  {
   "cell_type": "code",
   "execution_count": null,
   "id": "47560e3a",
   "metadata": {},
   "outputs": [],
   "source": [
    "#extract digits from given numbers"
   ]
  },
  {
   "cell_type": "code",
   "execution_count": null,
   "id": "6d78c624",
   "metadata": {},
   "outputs": [],
   "source": [
    "def digits(n):\n",
    "    while n != 0:\n",
    "        print(n % 10)\n",
    "        n = n // 10\n",
    "\n",
    "n = int(input(\"Enter n value: \"))\n",
    "digits(n)"
   ]
  },
  {
   "cell_type": "code",
   "execution_count": null,
   "id": "74350052",
   "metadata": {},
   "outputs": [],
   "source": [
    "def digitsv1(n):\n",
    "    s=str(n)\n",
    "    for i in s[::-1]:\n",
    "        print(i)\n",
    "\n",
    "\n",
    "\n",
    "n=int(input(\"enter n value:\"))\n",
    "digitsv1(n)"
   ]
  },
  {
   "cell_type": "code",
   "execution_count": null,
   "id": "dc68636c",
   "metadata": {},
   "outputs": [],
   "source": [
    "#count of digits"
   ]
  },
  {
   "cell_type": "code",
   "execution_count": null,
   "id": "dc88c765",
   "metadata": {},
   "outputs": [],
   "source": [
    "def count(n):\n",
    "    return len(str(n))\n",
    "\n",
    "n=int(input(\"enter n value:\"))\n",
    "print(count(n))"
   ]
  },
  {
   "cell_type": "code",
   "execution_count": null,
   "id": "9d439fd0",
   "metadata": {},
   "outputs": [],
   "source": [
    "def count(n):\n",
    "    c=0\n",
    "    while n!=0:\n",
    "        c=c+1\n",
    "        n=n//10\n",
    "    return c\n",
    "\n",
    "n=int(input(\"enter n value:\"))\n",
    "print(count(n))"
   ]
  },
  {
   "cell_type": "code",
   "execution_count": null,
   "id": "fbfdff69",
   "metadata": {},
   "outputs": [],
   "source": [
    "#reverse a number"
   ]
  },
  {
   "cell_type": "code",
   "execution_count": null,
   "id": "92b386d7",
   "metadata": {},
   "outputs": [],
   "source": [
    "def rev(n):\n",
    "    r=0\n",
    "    while n!=0:\n",
    "        d=n%10\n",
    "        r=r*10+d\n",
    "        n=n//10\n",
    "    return r\n",
    "        \n",
    "\n",
    "\n",
    "\n",
    "n=int(input(\"enter any number\"))\n",
    "print(f\"original number = {n} and reverse ={rev(n)}\")"
   ]
  },
  {
   "cell_type": "code",
   "execution_count": null,
   "id": "7801efa7",
   "metadata": {},
   "outputs": [],
   "source": [
    "def rev1(n):\n",
    "    return str(n)[::-1]\n",
    "  \n",
    "        \n",
    "\n",
    "\n",
    "\n",
    "n=int(input(\"enter any number\"))\n",
    "print(f\"original number = {n} and reverse ={rev1(n)}\")"
   ]
  },
  {
   "cell_type": "code",
   "execution_count": null,
   "id": "44985ab1",
   "metadata": {},
   "outputs": [],
   "source": [
    "#check paliandrome"
   ]
  },
  {
   "cell_type": "code",
   "execution_count": null,
   "id": "54165ada",
   "metadata": {},
   "outputs": [],
   "source": [
    "def pal(n):\n",
    "    t=n\n",
    "    r=0\n",
    "    while n!=0:\n",
    "        d=n%10\n",
    "        r=r*10+d\n",
    "        n=n//10\n",
    "    return t==r\n",
    "\n",
    "\n",
    "\n",
    "\n",
    "\n",
    "n=int(input(\"enter your number\"))\n",
    "print(f\"original number ={n} and ispali={pal(n)}\")"
   ]
  },
  {
   "cell_type": "code",
   "execution_count": null,
   "id": "be875085",
   "metadata": {},
   "outputs": [],
   "source": [
    "#trailing zeros of factorial"
   ]
  },
  {
   "cell_type": "code",
   "execution_count": null,
   "id": "776210ad",
   "metadata": {},
   "outputs": [],
   "source": [
    "import math\n",
    "def fun(n):\n",
    "    f=math.factorial(n)\n",
    "    c=0\n",
    "    while f!=0:\n",
    "        if f%10!=0:\n",
    "                   break\n",
    "        c=c+1\n",
    "        f=f//10\n",
    "    return c\n",
    "  \n",
    "    \n",
    "\n",
    "\n",
    "\n",
    "n=int(input(\"enter any number\"))\n",
    "print(f\"number = {n} fact={math.factorial(n)} and trailing zeros = {fun(n)}\")"
   ]
  },
  {
   "cell_type": "code",
   "execution_count": null,
   "id": "96874261",
   "metadata": {},
   "outputs": [],
   "source": [
    "def fun(n):\n",
    "    c = 0\n",
    "    while n >= 5:\n",
    "        n = n // 5\n",
    "        c += n\n",
    "    return c\n",
    "\n",
    "n = int(input(\"Enter any number: \"))\n",
    "print(f\"Number = {n} factorial trailing zeros = {fun(n)}\")"
   ]
  },
  {
   "cell_type": "code",
   "execution_count": null,
   "id": "8df8781e",
   "metadata": {},
   "outputs": [],
   "source": [
    "#iterative power or x to the power of y (x^y)"
   ]
  },
  {
   "cell_type": "code",
   "execution_count": null,
   "id": "4630dde4",
   "metadata": {},
   "outputs": [],
   "source": [
    "def power(x,y):\n",
    "    res=1\n",
    "    for i in range(y):\n",
    "        res=res*x\n",
    "    return res\n",
    "     \n",
    "\n",
    "\n",
    "\n",
    "x=int(input(\"enter x value\"))\n",
    "y=int(input(\"enter y value\"))\n",
    "\n",
    "print(f\"x={x},y={y} and {x} to the power {y} is :{power(x,y)}\")"
   ]
  },
  {
   "cell_type": "code",
   "execution_count": null,
   "id": "e7ad7d6e",
   "metadata": {},
   "outputs": [],
   "source": [
    "def power(x,y):\n",
    "    result=x**y\n",
    "    return result\n",
    "\n",
    "\n",
    "\n",
    "x=int(input(\"enter x value\"))\n",
    "y=int(input(\"enter y value\"))\n",
    "\n",
    "print(f\"x={x},y={y} and {x} to the power {y} is :{power(x,y)}\")"
   ]
  },
  {
   "cell_type": "code",
   "execution_count": null,
   "id": "9bc59b79",
   "metadata": {},
   "outputs": [],
   "source": [
    "import math\n",
    "def power(x,y):\n",
    "    return math.pow(x,y)\n",
    "   \n",
    "\n",
    "\n",
    "x=int(input(\"enter x value\"))\n",
    "y=int(input(\"enter y value\"))\n",
    "\n",
    "print(f\"x={x},y={y} and {x} to the power {y} is :{power(x,y)}\")"
   ]
  },
  {
   "cell_type": "code",
   "execution_count": null,
   "id": "7fb10dd6",
   "metadata": {},
   "outputs": [],
   "source": [
    "#print sum of digits"
   ]
  },
  {
   "cell_type": "code",
   "execution_count": null,
   "id": "7f3bc87f",
   "metadata": {},
   "outputs": [],
   "source": [
    "def sumd(n):\n",
    "    s=0\n",
    "    while n!=0:\n",
    "        s=s+n%10\n",
    "        n=n//10\n",
    "    return s\n",
    "            \n",
    "\n",
    "\n",
    "\n",
    "\n",
    "n=int(input(\"enter your number\"))\n",
    "print(sumd(n))"
   ]
  },
  {
   "cell_type": "code",
   "execution_count": null,
   "id": "4d1957b0",
   "metadata": {},
   "outputs": [],
   "source": [
    "def sumd1(n):\n",
    "    return sum([int(i) for i in str(n)])\n",
    "  \n",
    "\n",
    "n=int(input(\"enter your number\"))\n",
    "print(sumd1(n))"
   ]
  },
  {
   "cell_type": "code",
   "execution_count": null,
   "id": "b2c58c20",
   "metadata": {},
   "outputs": [],
   "source": [
    "#sum of even digits"
   ]
  },
  {
   "cell_type": "code",
   "execution_count": null,
   "id": "174b7430",
   "metadata": {},
   "outputs": [],
   "source": [
    "def sume(n):\n",
    "    s=0\n",
    "    while n!=0:\n",
    "        d=n%10\n",
    "        if d%2==0:\n",
    "             s=s+d\n",
    "        n=n//10\n",
    "    return s\n",
    "           \n",
    "\n",
    "n=int(input('enter your number: '))\n",
    "print(sume(n))"
   ]
  },
  {
   "cell_type": "code",
   "execution_count": null,
   "id": "e137fec2",
   "metadata": {},
   "outputs": [],
   "source": [
    "#sum of odd digits"
   ]
  },
  {
   "cell_type": "code",
   "execution_count": null,
   "id": "0a261a4a",
   "metadata": {},
   "outputs": [],
   "source": [
    "def sumod(n):\n",
    "    s=0\n",
    "    while n>0:\n",
    "        d=n%10\n",
    "        if d%2!=0:\n",
    "            s=s+d\n",
    "        n=n//10\n",
    "    return s\n",
    "                 \n",
    "n=int(input(\"enter your number:\"))\n",
    "print(sumod(n))"
   ]
  },
  {
   "cell_type": "code",
   "execution_count": null,
   "id": "0cdcf40a",
   "metadata": {},
   "outputs": [],
   "source": [
    "#check prime number or not"
   ]
  },
  {
   "cell_type": "code",
   "execution_count": null,
   "id": "f8602942",
   "metadata": {},
   "outputs": [],
   "source": [
    "import math\n",
    "def prime(n):\n",
    "    if n<=1:\n",
    "        return \"false\"\n",
    "    for i in range (2,int(math.sqrt(n))+1):\n",
    "        if n%i==0:\n",
    "            return \"false\"\n",
    "    else:\n",
    "          return \"true\"\n",
    "          \n",
    "    \n",
    "    \n",
    "\n",
    "\n",
    "\n",
    "\n",
    "n=int(input(\"enter your number\"))\n",
    "print(prime(n))"
   ]
  },
  {
   "cell_type": "code",
   "execution_count": null,
   "id": "44e5b606",
   "metadata": {},
   "outputs": [],
   "source": [
    "def prime(n,i):\n",
    "    if i==1:\n",
    "        return True\n",
    "    elif n%i==0:\n",
    "        return False\n",
    "    else:\n",
    "        return prime(n,i-1)\n",
    "\n",
    "\n",
    "\n",
    "n=int(input(\"enter your numbber: \"))\n",
    "print(f\"{n} is a prime:{prime(n,n//2)}\")"
   ]
  },
  {
   "cell_type": "code",
   "execution_count": null,
   "id": "1d482187",
   "metadata": {},
   "outputs": [],
   "source": [
    "def prime(n):\n",
    "    f=0\n",
    "    for i in range(1,n+1):\n",
    "        if n%i==0:\n",
    "            f=f+1\n",
    "    return f==2\n",
    "\n",
    "\n",
    "\n",
    "n=int(input(\"enter your numbber: \"))\n",
    "print(f\"{n} is a prime:{prime(n)}\")"
   ]
  },
  {
   "cell_type": "code",
   "execution_count": null,
   "id": "f0dd70e4",
   "metadata": {},
   "outputs": [],
   "source": [
    "#sum of prime digits"
   ]
  },
  {
   "cell_type": "code",
   "execution_count": null,
   "id": "243c80b5",
   "metadata": {},
   "outputs": [],
   "source": [
    "def sum(n):\n",
    "    s=0\n",
    "    while n>0:\n",
    "        d=n%10\n",
    "        if d==2 or d==3 or d==5 or d==7:\n",
    "             s=s+d\n",
    "        n=n//10\n",
    "    return s\n",
    "       \n",
    "    \n",
    "    \n",
    "\n",
    "\n",
    "\n",
    "n=int(input(\"enter your number\"))\n",
    "print(sum(n))"
   ]
  },
  {
   "cell_type": "code",
   "execution_count": null,
   "id": "fcbbf91e",
   "metadata": {},
   "outputs": [],
   "source": [
    "#divisors of n"
   ]
  },
  {
   "cell_type": "code",
   "execution_count": null,
   "id": "624a51ee",
   "metadata": {},
   "outputs": [],
   "source": [
    "def div(n):\n",
    "    l=[]\n",
    "    for i in range(1,n+1):\n",
    "        if n%i==0:\n",
    "            l.append(i)\n",
    "    return l\n",
    "\n",
    "\n",
    "\n",
    "\n",
    "n=int(input(\"enter your number\"))\n",
    "print (f\" divisors of {n} is {div(n)}\")"
   ]
  },
  {
   "cell_type": "code",
   "execution_count": null,
   "id": "3bb67c1c",
   "metadata": {},
   "outputs": [],
   "source": [
    "#perfect number"
   ]
  },
  {
   "cell_type": "code",
   "execution_count": null,
   "id": "a20836db",
   "metadata": {},
   "outputs": [],
   "source": [
    "def div(n):\n",
    "    l=[]\n",
    "    for i in range (1,n):\n",
    "        if n%i==0:\n",
    "            l.append(i)\n",
    "    return l\n",
    "    \n",
    "def per(n):\n",
    "    l=div(n)\n",
    "    return n==sum(l)\n",
    "\n",
    "\n",
    "\n",
    "n=int(input(\"enter your number: \"))\n",
    "print(f\"{n} is a perfect number {per(n)}\")"
   ]
  },
  {
   "cell_type": "code",
   "execution_count": null,
   "id": "f983b1c6",
   "metadata": {},
   "outputs": [],
   "source": [
    "#armstrong"
   ]
  },
  {
   "cell_type": "code",
   "execution_count": null,
   "id": "910107f7",
   "metadata": {},
   "outputs": [],
   "source": [
    "def arm(n):\n",
    "    s=0\n",
    "    t=n\n",
    "    while n>0:\n",
    "        d=n%10\n",
    "        s=s+d**3\n",
    "        n=n//10\n",
    "    return s==t\n",
    "\n",
    "\n",
    "for i in range(1,1000+1):\n",
    "    if arm(i):\n",
    "        print(i)\n",
    "\n",
    "\n",
    "\n"
   ]
  },
  {
   "cell_type": "code",
   "execution_count": null,
   "id": "4f77f86c",
   "metadata": {},
   "outputs": [],
   "source": [
    "#strong number"
   ]
  },
  {
   "cell_type": "code",
   "execution_count": null,
   "id": "55e462c5",
   "metadata": {},
   "outputs": [],
   "source": [
    "import math\n",
    "def strong(n):\n",
    "    s=0\n",
    "    t=n\n",
    "    while n>0:\n",
    "        d=n%10\n",
    "        s=s+math.factorial(d)\n",
    "        n=n//10\n",
    "    return s==t\n",
    "\n",
    "\n",
    "for i in range(1,1000+1):\n",
    "    if strong(i):\n",
    "        print(i)\n",
    "\n",
    "\n",
    "\n"
   ]
  },
  {
   "cell_type": "code",
   "execution_count": null,
   "id": "ee875207",
   "metadata": {},
   "outputs": [],
   "source": [
    "#fib sequence"
   ]
  },
  {
   "cell_type": "code",
   "execution_count": null,
   "id": "ed954699",
   "metadata": {},
   "outputs": [],
   "source": [
    "def fib(n):\n",
    "    l=[]\n",
    "    a=0\n",
    "    b=1\n",
    "    l.append(a)\n",
    "    l.append(b)\n",
    "    for i in range (n-2):\n",
    "        c=a+b\n",
    "        l.append(c)\n",
    "        a=b\n",
    "        b=c\n",
    "    return l\n",
    "\n",
    "\n",
    "\n",
    "\n",
    "\n",
    "\n",
    "\n",
    "\n",
    "n=int(input(\"enter your number\"))\n",
    "print(fib(n))"
   ]
  },
  {
   "cell_type": "code",
   "execution_count": null,
   "id": "e9478eee",
   "metadata": {},
   "outputs": [],
   "source": [
    "#Trib sequence"
   ]
  },
  {
   "cell_type": "code",
   "execution_count": null,
   "id": "204d2d50",
   "metadata": {},
   "outputs": [],
   "source": [
    "def Trib(n):\n",
    "    l=[]\n",
    "    a=0\n",
    "    b=1\n",
    "    c=2\n",
    "    l.append(a)\n",
    "    l.append(b)\n",
    "    l.append(c)\n",
    "    for i in range (n-3):\n",
    "        d=a+b+c\n",
    "        l.append(d)\n",
    "        a=b\n",
    "        b=c\n",
    "        c=d\n",
    "    return l\n",
    "\n",
    "\n",
    "\n",
    "\n",
    "\n",
    "\n",
    "\n",
    "\n",
    "n=int(input(\"enter your number\"))\n",
    "print(Trib(n))"
   ]
  },
  {
   "cell_type": "code",
   "execution_count": null,
   "id": "e981e41e",
   "metadata": {},
   "outputs": [],
   "source": []
  }
 ],
 "metadata": {
  "kernelspec": {
   "display_name": "Python 3 (ipykernel)",
   "language": "python",
   "name": "python3"
  },
  "language_info": {
   "codemirror_mode": {
    "name": "ipython",
    "version": 3
   },
   "file_extension": ".py",
   "mimetype": "text/x-python",
   "name": "python",
   "nbconvert_exporter": "python",
   "pygments_lexer": "ipython3",
   "version": "3.12.3"
  }
 },
 "nbformat": 4,
 "nbformat_minor": 5
}
